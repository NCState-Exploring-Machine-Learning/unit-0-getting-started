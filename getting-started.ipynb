{
 "cells": [
  {
   "cell_type": "markdown",
   "metadata": {},
   "source": [
    "# Welcome to the course!\n",
    "\n",
    "<iframe src=\"https://giphy.com/embed/MT5UUV1d4CXE2A37Dg\" width=\"480\" height=\"480\" style=\"\" frameBorder=\"0\" class=\"giphy-embed\" allowFullScreen></iframe><p><a href=\"https://giphy.com/gifs/Giflytics-MT5UUV1d4CXE2A37Dg\">via GIPHY</a></p>"
   ]
  },
  {
   "cell_type": "markdown",
   "metadata": {},
   "source": [
    "## About me!\n",
    "\n",
    "I am Trenton Embry - previously Trenton Wallis (this can be a bit confusing sometimes)\n",
    "\n",
    "### Education\n",
    "\n",
    "- NC Stat Alumni\n",
    "- 2023 Masters in Computer Engineering - focus in Embedded Systems and Machine Learning\n",
    "- 2022 B.S in Electrical Engineering \n",
    "- Duke Certificate in Python w/ Machine Learning Focus\n",
    "- I've done some fun projects in ML\n",
    "\n",
    "### Work\n",
    "![eaton-logo](./images/eaton-logo.png)\n",
    "\n",
    "\n",
    "### Organizations\n",
    "\n",
    "\n",
    "### Extra Fun Stuff\n",
    "\n",
    "\n"
   ]
  },
  {
   "cell_type": "markdown",
   "metadata": {},
   "source": [
    "\n",
    "\n",
    "## What this course is\n",
    "\n",
    "## What this course is not\n",
    "\n",
    "## Expectations and background\n",
    "\n",
    "## Schedule\n",
    "\n",
    "## ADAPT Model\n",
    "\n",
    "## Jupyter Notebooks\n",
    "\n",
    "## Git and Github\n",
    "\n",
    "## Recommended Tools\n",
    "\n",
    "## Questions? and FAQ\n",
    "\n",
    "## Your first homework!\n",
    "\n",
    "## Office Hours and General Questions"
   ]
  }
 ],
 "metadata": {
  "kernelspec": {
   "display_name": "Python 3",
   "language": "python",
   "name": "python3"
  },
  "language_info": {
   "name": "python",
   "version": "3.11.9"
  },
  "orig_nbformat": 4
 },
 "nbformat": 4,
 "nbformat_minor": 2
}
