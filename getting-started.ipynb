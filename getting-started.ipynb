{
 "cells": [
  {
   "cell_type": "markdown",
   "metadata": {},
   "source": [
    "# DSC 412-001 Exploring Machine Learning \n",
    "# Welcome to the course!\n",
    "\n",
    "<iframe src=\"https://giphy.com/embed/MT5UUV1d4CXE2A37Dg\" width=\"480\" height=\"480\" style=\"\" frameBorder=\"0\" class=\"giphy-embed\" allowFullScreen></iframe><p><a href=\"https://giphy.com/gifs/Giflytics-MT5UUV1d4CXE2A37Dg\">via GIPHY</a></p>"
   ]
  },
  {
   "cell_type": "markdown",
   "metadata": {},
   "source": [
    "## About me!\n",
    "\n",
    "### Education\n",
    "\n",
    "- NC Stat Alumni\n",
    "- 2023 Masters in Computer Engineering - focus in Embedded Systems and Machine Learning\n",
    "- 2022 B.S in Electrical Engineering \n",
    "- Duke Certificate in Python w/ Machine Learning Focus\n",
    "- I've done some fun projects with ML\n",
    "\n",
    "### Work\n",
    "![johndeere-logo](./images/johndeere-logo.png)\n",
    "![eaton-logo](./images/eaton-logo.png)\n",
    "\n",
    "![drop-works-machine](./images/drop-works.jpg)\n",
    "![eaton-logo](./images/eaton-logo.png)\n",
    "\n",
    "![tesla-logo](./images/tesla-logo.png)\n",
    "\n",
    "<img src=\"./images/Garmin-logo.png\" height=\"200\" style=\"background-color:white;\">\n",
    "\n",
    "### Organizations\n",
    "\n",
    "<img src=\"./images/tedxncstate.png\">\n",
    "<br>\n",
    "\n",
    "<img src=\"./images/EML.png\" height=\"200\">\n",
    "\n",
    "### Extra Fun Stuff\n",
    "- Have two cats!\n",
    "- Scuba Diving\n",
    "- Recent interest in teen mental health\n",
    "- Reading - sci-fi/fantasy any recommendations?"
   ]
  },
  {
   "cell_type": "markdown",
   "metadata": {},
   "source": [
    "## Schedule\n",
    "\n",
    "Fall Schedule:\n",
    "\n",
    "08/22 Week 01: Getting Started\n",
    "\n",
    "08/29 Week 02: Numpy, Pandas, Matplotlib\n",
    "\n",
    "09/05 Week 03: Linear Regression\n",
    "\n",
    "09/12 Week 04: Logistical Regression\n",
    "\n",
    "09/19 Week 05: Buffer\n",
    "- Wellness day 09/17\n",
    "\n",
    "09/26 Week 06: Support Vector Machines\n",
    "\n",
    "10/03 Week 07: Decision Trees\n",
    "\n",
    "10/10 Week 08: Random Forest\n",
    "\n",
    "10/17 Week 09: Neural Networks Overview\n",
    "- Drop/Revision Deadline\n",
    "- Fall Break 10/14 - 15\n",
    "\n",
    "10/24 Week 10: CNNs and RNNs\n",
    "\n",
    "10/31 Week 11: LLMs\n",
    "\n",
    "11/07 Week 12: GANs\n",
    "\n",
    "11/14 Week 13: Digital Image Processing and Image Recognition\n",
    "\n",
    "11/21 Week 14: Presentations\n",
    "\n",
    "11/28 Week : NO CLASS THANKSGIVING BREAK\n",
    "\n",
    "12/03 Week : Last Day of Classes\n",
    "\n",
    "12/13 Week : Fall Grades Due\n",
    "\n",
    "\n",
    "\"Floating Holiday\"\n",
    "\n",
    "Attendance will be taken for the class to encourage attendance. However you may have one free floating holiday where there is no burden of proof for attendance score. Please reach out to me if you have any attendance concerns. Illness is excused - proof not required - please don't get me sick, please be reasonable."
   ]
  },
  {
   "cell_type": "markdown",
   "metadata": {},
   "source": [
    "## Course Expectations\n",
    "\n",
    "### The Rule\n",
    "#1 Rule Respect: \n",
    "\n",
    "Students in the course shall respect other students taking this course. Everyone comes from different backgrounds - including technical. This means everyone has different experience. Questions are encouraged, and I will not tolerate scoffing, laughing, snickering, or any form of disrespect when questions are asked. \n",
    "\n",
    "The classroom is a place of learning, both for you and for me. Learning can be vulnerable - to admit you do not know something or admit you taught/learned something wrong - can make you feel vulnerable. I hope my class is a space where you can feel vulnerable.\n",
    "\n",
    "### Homeworks/Labs and Project\n",
    "\n",
    "This course will have no test or graded quizzes. The course will have homeworks and a final project. The final project will be worked on throughout the semester. Ideally from the first day of the course until the end. \n",
    "\n",
    "A report will be due on your project, I am still determining what will be necessary to submit for your final project. This may be up for discussion through the semester based on your feedback. \n",
    "\n",
    "### Having Fun!\n",
    "\n",
    "The main goal of this course to have a bit of fun with it. If you do not need this course for a grade, I encourage you to take it pass/fail. This will hopefully de-stress the experience and make the learning process a bit more fun. However - I do not expect to grade harshly. With reasonable effort you will do well in this course. Ideally I want you to walk away from this course wanting to do more - not feel burnt out or overwhelmed. It will be a bit of balancing for me in this first semester.\n",
    "\n",
    "### Communication\n",
    "\n",
    "I will be available over email! I work in industry, so I will most likely be checking this at the end of the day. I aim to get back to you within 48 hours. My updates will come over email, as opposed to moodle. \n",
    "\n",
    "I encourage you as a class to make a discord/slack/google-chat channel to discuss coursework outside of traditional means. We need to decide what chat we are using for the class. This tends to be quicker than email.\n",
    "\n",
    "### Questions\n",
    "\n",
    "Please ask me questions! Having someone to ask questions is the main benefit of taking a course like this one as opposed to learning through youtube or articles. Its okay to ask the same question again or even 3 times! I want to make sure you have a solid understanding and you feel your question was answered well."
   ]
  },
  {
   "cell_type": "markdown",
   "metadata": {},
   "source": [
    "## What this course is not\n",
    "\n",
    "With this course being a 1 credit hour course and the course title - Exploring Machine Learning we will not be deep diving into every ML algorithm. My goal is to give you a fundamentals understanding of machine learning techniques and the application of models. We will dive deeper into the math for some models, but I will not expect you to regurgitate any derivations. Granted I will try to provide additional resources for those who want to dig deeper into these models.\n",
    "\n",
    "Some courses I recommend at NC State:\n",
    "- ECE 411 - Introduction to Machine Learning (I have not taken)\n",
    "- ECE/CS 542 - Neural Networks\n",
    "- CSC 722 - Advanced Topics in Machine Learning\n",
    "- Other DSC Classes\n",
    "\n",
    "There are also lots of AI classes here: https://webappprd.acs.ncsu.edu/php/coursecat/directory.php#course-search-results"
   ]
  },
  {
   "cell_type": "markdown",
   "metadata": {},
   "source": [
    "## ADAPT Model\n",
    "\n",
    "https://datascienceacademy.ncsu.edu/courses/course-model/\n",
    "\n",
    "We will cover all topics. I hope to focus on the following specifically:\n",
    "\n",
    "1. Recognizing data as information – not truth – with error, variability, and degrees of inclusion/exclusion,\n",
    "6. Assessing validity of data, methods, results, and communication,\n",
    "10. Specifying exciting discoveries or impacts of data science.\n"
   ]
  },
  {
   "cell_type": "markdown",
   "metadata": {},
   "source": [
    "## Jupyter Notebooks\n",
    "\n",
    "We will be using Jupyter Notebooks throughout the course. I will be using them in VSCode, that is the text editor I recommend. You may use what text editor or Notebook manager you like to use, but it may take some work to get all the graphs/code running. - If you have some trouble with this please let me know and I can help try to get it setup for your system.\n",
    "\n",
    "Homeworks will be completed in Jupyter Notebooks, and submitted using Git onto Github. More in the next section. \n",
    "\n",
    "We use Jupyter Notebooks since they allow us to run \"snippets\" of python code. This is beneficial since it allows us to run snippets that take a long time once, and code we would like to experiment multiple times. Variables are shared globally in the notebook (like a script) unless they are scoped in a function, or are the member of an object.\n"
   ]
  },
  {
   "cell_type": "code",
   "execution_count": 2,
   "metadata": {},
   "outputs": [
    {
     "name": "stdout",
     "output_type": "stream",
     "text": [
      "This is x + y: 11\n"
     ]
    }
   ],
   "source": [
    "x = 5\n",
    "y = 6\n",
    "print(\"This is x + y:\", x + y)"
   ]
  },
  {
   "cell_type": "markdown",
   "metadata": {},
   "source": [
    "## Git and Github\n",
    "\n",
    "Homeworks/labs, and projects will be submitted using Git onto Github will be graded via Github Classroom. I believe git is an essential tool if you are using code. This can also be valuable outside of storing/versioning software - such as saving remote revisions of research papers.\n",
    "\n",
    "Instructions can be found on moodle here: \n",
    "\n",
    "(Walk through the instructions)\n",
    "\n",
    "Your first homework will to getting actuated with submitting your homework while also learning more about you!\n",
    " "
   ]
  },
  {
   "cell_type": "markdown",
   "metadata": {},
   "source": [
    "## Recommended Tools\n",
    "\n",
    "In VS Code there are some extensions that will help with class, these are the ones I recommend:\n",
    "- Python Extension\n",
    "- (Maybe more to come)\n",
    "\n",
    "\n",
    "## Questions? and FAQ\n",
    "\n",
    "**Will attendance be taken?**\n",
    "\n",
    "Yes -to encourage attendance in-person. Please note floating holiday.\n",
    "\n",
    "**Will this class be recorded? **\n",
    "\n",
    "Yes recordings can be found at:\n",
    "\n",
    "https://ncsu.hosted.panopto.com/Panopto/Pages/Sessions/List.aspx#folderID=9cdab712-c776-443b-a9f1-b1c1002fc734\n",
    "\n",
    "Any other questions? \n",
    "\n",
    "## Office Hours\n",
    "\n",
    "A poll will go out to accommodate as many people as possible. You can also make an office hours request by appointment. Office hours will end after 15 minutes if no students will attend - you can send me an email if you are coming later to office hours.\n",
    "\n",
    "Link: https://www.when2meet.com/?25818777-VUmcD\n",
    "\n",
    "Course Collaboration Leaders (CCLs) Office Hours\n"
   ]
  }
 ],
 "metadata": {
  "kernelspec": {
   "display_name": "Python 3",
   "language": "python",
   "name": "python3"
  },
  "language_info": {
   "codemirror_mode": {
    "name": "ipython",
    "version": 3
   },
   "file_extension": ".py",
   "mimetype": "text/x-python",
   "name": "python",
   "nbconvert_exporter": "python",
   "pygments_lexer": "ipython3",
   "version": "3.11.1"
  },
  "orig_nbformat": 4
 },
 "nbformat": 4,
 "nbformat_minor": 2
}
