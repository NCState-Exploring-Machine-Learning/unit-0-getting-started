{
 "cells": [
  {
   "cell_type": "markdown",
   "metadata": {},
   "source": [
    "# Logistics\n",
    "\n",
    "<iframe src=\"https://giphy.com/embed/3o6Zt29dVdjVtMCEec\" width=\"480\" height=\"480\" style=\"\" frameBorder=\"0\" class=\"giphy-embed\" allowFullScreen></iframe><p><a href=\"https://giphy.com/gifs/art-design-illustration-3o6Zt29dVdjVtMCEec\">via GIPHY</a></p>\n"
   ]
  },
  {
   "cell_type": "markdown",
   "metadata": {},
   "source": [
    "In this course there are some tools we are going to use. I want to cover some of them to make sure everyone is on the same page. I will explain these concepts through our homeworks!"
   ]
  },
  {
   "cell_type": "markdown",
   "metadata": {},
   "source": [
    "# git and github\n",
    "\n",
    "git is a versioning tool. It keeps track of changes when you update a file - or multiple files. This can be very powerful. Say you write some code and it works great! Then when you want to optimize the code, you change something and it breaks... oh no! You had autosave on and now you don't know what broke it. In this case if you used git you could easily reverse your code to its working state. This is especially useful when months later you find a bug and you want to go back and see when you introduced it into your code base. \n",
    "\n",
    "git, works locally on your machine. It has useful tools to make it work with github, but you could use git effectively on just your machine. BUT there is one big draw back to this.... \n",
    "- What if I want to share my code?\n",
    "- What if my computer dies, I will lose all my code\n",
    "- What if my computer does not have enough space for all my versions of code\n",
    "\n",
    "This is where github comes in! \n",
    "\n",
    "github is an online platform that stores git repositories (repos) these are just folders that we use with git. \n",
    "\n",
    "github will accept code from your machine using git and store all your local files online. This way if the above problems occur your code is saved! Git and github (and some other online git server tools) are used extensively in industry. The main goal of using git in this class is:\n",
    "\n",
    "1. Getting experience in a class setting can give you confidence outside the class\n",
    "2. It is generally not taught - for some people it is \"picked up as you go\" - this is how I learned\n",
    "3. You can save online versions of your code that persist forever - you can show employers your code even when you get a new computer\n",
    "4. I can use git and github to more effectively grade and give you feedback on your homework."
   ]
  },
  {
   "cell_type": "markdown",
   "metadata": {},
   "source": [
    "git is ran typically on the command line. Command line can be accessed via your terminal. \n",
    "\n",
    "If you watch the setup class video you would have downloaded a program called git bash. When you launch this it opens a terminal where you can run git commands. \n",
    "> git is installed on your system so you should be abel to access it through any terminal ie git bash, powershell, cmd, and more - each of these have their own little quirks you have to get use to. \n"
   ]
  },
  {
   "cell_type": "markdown",
   "metadata": {},
   "source": [
    "## Lets do an example\n",
    "\n",
    "Lets look at your unit 0 hw together.\n",
    "\n",
    "Right now your unit 0 hw lives on github. It does not live on your machine - but we want it on you machine so you can complete your homework. \n",
    "\n",
    "The way we do this is through cloning - this just makes a copy of your homework to your local machine and sets up the connection of your homework folder on github and your homework folder on your local machine. Your homework repo on github is also called your \"remote\" repo since it remote from your local machine. \n",
    "\n",
    "We clone the repo down using the   `git clone <url>` command. The `<url>` can be accesed by copying the link from your remote homework.\n",
    "\n",
    "\n",
    "Awesome once its on your machine, you can fill out your homework. "
   ]
  },
  {
   "cell_type": "markdown",
   "metadata": {},
   "source": [
    "## Changing Files\n",
    "\n",
    "Once you change a file on your local machine, your local machine and remote machine do not match. In order to make them match there are a couple of step:\n",
    "- `git status`\n",
    "- `git add`\n",
    "- `git commit`\n",
    "- `git push`\n",
    "\n",
    "Lets walk through these "
   ]
  },
  {
   "cell_type": "markdown",
   "metadata": {},
   "source": [
    "### Step 1 - Have a look\n",
    "\n",
    "Pretend that we are packing a present for our good friend github. \n",
    "\n",
    "We need to see what we have available to send them. The way we check is \n",
    "\n",
    "`git status`\n",
    "\n",
    "This can be ran in terminal and it will show you want we have available, for your first homework this should be hwm_unit_0.ipynb (since that is the file you filled out.)\n",
    "\n",
    "<img src=\"./images/file_outside_empty_box.png\" height=\"400\" style=\"background-color:white;\">"
   ]
  },
  {
   "cell_type": "markdown",
   "metadata": {},
   "source": [
    "### Step 2 - Place the file inside the box\n",
    "\n",
    "Now that we see the file we want to add we need to put it in our \"box\". \n",
    "\n",
    "The way we do this is with `git add <filename> `. \n",
    "\n",
    "So in our example you would run \n",
    "\n",
    "`git add unit_0_hw.ipynb`\n",
    "\n",
    "<img src=\"./images/file_inside_the_box.png\" height=\"400\" style=\"background-color:white;\">"
   ]
  },
  {
   "cell_type": "markdown",
   "metadata": {},
   "source": [
    "### Step 3 - Wrap the present\n",
    "\n",
    "Since we like github so much we want to close the box and wrap the present. \n",
    "\n",
    "We do this by \"committing\" the files to the box. \n",
    "\n",
    "You can do this with `git commit`\n",
    "\n",
    "However, we arent rude, so we want to leave a message on the box for github, this can be anything, but remember github will remember it and show it everyone (if repo is public), so we want the message to make sense and be appropriate. You can take a message on with the additional agruments `-m \"<some message>\"`. The -m stands for message. \n",
    "\n",
    "The full command would be \n",
    "`git commit -m \"<some message>\"`\n",
    "\n",
    "In our case I just want to add a message called \"message\". \n",
    "\n",
    "So it would be \n",
    "\n",
    "`git commit -m \"message\"` \n",
    "\n",
    "This wraps the box up for use and gets it ready to send to github. \n",
    "\n",
    "Your commit message for a homework might be:\n",
    "`git commit -m \"first submission`\n",
    "or \n",
    "`git commit -m \"solved problem 3 and 4\"`\n",
    "\n",
    "\n",
    "<img src=\"./images/commit-message.png\" height=\"400\" style=\"background-color:white;\">\n",
    "\n",
    "\n",
    "Note you can continue to add files to the box, but you will need to wrap your box again with git commit. This is like sticking the present in another box with the new file and wrapping that present. - Present inception! If you are interested in unwrapping the box look up `git reset`\n",
    "\n"
   ]
  },
  {
   "cell_type": "markdown",
   "metadata": {},
   "source": [
    "### Step 4 Send the Present\n",
    "\n",
    "Now that our present is nicely wrapped, we want to send it off to github!\n",
    "\n",
    "The way we do this is by pushing the box over to github\n",
    "\n",
    "We can use the command \n",
    "\n",
    "`git push` \n",
    "\n",
    "And thats it! You know it is successful when the git command spits out he link to your repo and does not give any errors. \n",
    "\n",
    "You can then use that URL to see your remote repo that you just pushed to github! Congrats that code is now in github and you can clone it to pull it back down to a different machine.\n",
    "ei - pull the present down and open it up! "
   ]
  },
  {
   "cell_type": "markdown",
   "metadata": {},
   "source": [
    "### Any questions?"
   ]
  },
  {
   "cell_type": "markdown",
   "metadata": {},
   "source": [
    "# Changing gears - pytest\n",
    "\n",
    "pytest is a python module that I use to test your code. \n",
    "\n",
    "All you really need to know is that you you can run pytest in your repo to see your score. \n",
    "\n",
    "My autograder will use pytest to grade your homework too! \n",
    "\n",
    "If you want to learn more about how it works, I am happy to talk about it more in office hours or after class."
   ]
  },
  {
   "cell_type": "markdown",
   "metadata": {},
   "source": [
    "# Homeworks are going to change a bit\n",
    "\n",
    "Since github classroom is broken (and there is no fix in sight), I decided to write my own autograder. It may evolve and change and break as we go along so I please ask that you stay flexible - and that every error you see in your homework or project may not be your fault - so *please please please* reach out and ask. You are my beta tester for real now! \n",
    "\n",
    "Homeworks later will have \"secret\" tests that you will need to pass. This means that you could pass all tests locally, but there are some tests that you need to pass remotely. You can check if you are passing the remote tests by going to your repo and clicking the circle, x, or checkmark. Click view details and see what message you get. - This is not fully fleshed out yet, and may take me some time to setup. "
   ]
  },
  {
   "cell_type": "markdown",
   "metadata": {},
   "source": [
    "# Joining the class organization\n",
    "\n",
    "You should have gotten email to join my organization! \n",
    "\n",
    "> I cannot get a link so you have to accept through email.\n",
    "\n",
    "This will use your school email - if you do not want to use your school email please respond to me with the email you would like to add so you can submit your assignment. \n",
    "\n",
    "Now when you clone the repo - instead of selecting yourself as the owner you will select the organization. \n",
    "\n",
    "Why is this important? - This lets me see your repo even if it is marked private. This prevents other students from seeing your but still lets me see so I can give you feedback. \n",
    "\n",
    "\n",
    "**Please setup your next assignment this way - I will be posting a video to explain this process too **\n",
    "\n",
    "> Set Owner to the Classroom Organization\n",
    "\n",
    "> Set repo to private no public! "
   ]
  },
  {
   "cell_type": "markdown",
   "metadata": {},
   "source": [
    "# The Project - Overview\n",
    "\n",
    "I am hoping to release the first part of your project this weekend. \n",
    "\n",
    "The main goal of the project will be to pick a data-space you are interested, find a problem you want to solve and then use machine learning to solve it. This will include using a variety of models. More details to come!"
   ]
  }
 ],
 "metadata": {
  "language_info": {
   "name": "python"
  }
 },
 "nbformat": 4,
 "nbformat_minor": 2
}
